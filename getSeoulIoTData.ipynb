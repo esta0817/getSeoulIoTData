{
 "cells": [
  {
   "cell_type": "code",
   "execution_count": 1,
   "metadata": {},
   "outputs": [],
   "source": [
    "import csv\n",
    "import os, os.path\n",
    "import arcpy\n",
    "import requests\n",
    "import pandas as pd"
   ]
  },
  {
   "cell_type": "code",
   "execution_count": 6,
   "metadata": {},
   "outputs": [],
   "source": [
    "### Get Seoul Data ###\n",
    "def getSeoulData(startIndex, endIndex):\n",
    "    seoulAPIKey = \"427146617665737435366162794b54\"\n",
    "    seoulRestUrl = \"http://openapi.seoul.go.kr:8088/\"+str(seoulAPIKey)+\"/json/IotVdata018/\"+str(startIndex)+\"/\"+str(endIndex)+\"/\"\n",
    "    print(\"Request: \", seoulRestUrl)\n",
    "    response = requests.get(seoulRestUrl)\n",
    "    df = pd.DataFrame(response.json())\n",
    "    return(df[\"IotVdata018\"][\"row\"])\n"
   ]
  },
  {
   "cell_type": "code",
   "execution_count": 8,
   "metadata": {},
   "outputs": [],
   "source": [
    "### Make CSV file ###\n",
    "def writeCsvFile(csv_path, df):\n",
    "\n",
    "    # Write Rows\n",
    "    # Row Info : [\"기관명\",\"송신 서버 번호\",\"데이터 번호\",\"모델명\", \"시리얼(forigen key)\", \"서버타입\" ,\"사이트명\" ,\"방문자수\", \"날짜\", \"등록일자\"]\n",
    "    if not os.path.exists(csv_path):\n",
    "        csv_file = open(csv_path, 'w', newline='')\n",
    "        csv_writer = csv.writer(csv_file)\n",
    "        header=[\"Orag_NM\",\"Transmit_Server_NO\",\"DATA_NO\",\"Model_NM\", \"Site\", \"Server_Type\" ,\"Site_NM\" ,\"Visit_Count\", \"Date\", \"Regist_Date\"] \n",
    "        csv_writer.writerow(header)\n",
    "        for data in df:\n",
    "            csv_writer.writerow(data.values())\n",
    "    else:\n",
    "        csv_file = open(csv_path, 'a', newline='')\n",
    "        csv_writer = csv.writer(csv_file)\n",
    "        for data in df:\n",
    "            csv_writer.writerow(data.values())\n",
    "    csv_file.close()"
   ]
  },
  {
   "cell_type": "code",
   "execution_count": null,
   "metadata": {},
   "outputs": [],
   "source": [
    "# Configure Requrest URL\n",
    "seoulStartIndex = 1\n",
    "seoulEndIndex = 10000\n",
    "\n",
    "# Csv File Path\n",
    "csv_path = 'D:\\Data\\\\SeoulIoTData.csv'\n",
    "\n",
    "### Seoul CSV Main ###\n",
    "try:\n",
    "    # Get Data\n",
    "    startIndex = seoulStartIndex\n",
    "    endIndex = startIndex+999\n",
    "    while endIndex < seoulEndIndex:\n",
    "        seoulData = getSeoulData(startIndex, endIndex)\n",
    "        # Make Csv File\n",
    "        writeCsvFile(csv_path, seoulData)\n",
    "        print(\"Seoul CSV File Completed: from \", startIndex, \" to \", endIndex)\n",
    "        # Calcaulate the Next Request Value\n",
    "        startIndex+=1000\n",
    "        endIndex=startIndex+999\n",
    "\n",
    "    print(\"Csv File Location: \", csv_path)\n",
    "\n",
    "except Exception as e:\n",
    "    print(\"Get Seoul Csv File Error: \", e)"
   ]
  },
  {
   "cell_type": "code",
   "execution_count": 46,
   "metadata": {},
   "outputs": [
    {
     "data": {
      "text/html": [
       "<div>\n",
       "<style scoped>\n",
       "    .dataframe tbody tr th:only-of-type {\n",
       "        vertical-align: middle;\n",
       "    }\n",
       "\n",
       "    .dataframe tbody tr th {\n",
       "        vertical-align: top;\n",
       "    }\n",
       "\n",
       "    .dataframe thead th {\n",
       "        text-align: right;\n",
       "    }\n",
       "</style>\n",
       "<table border=\"1\" class=\"dataframe\">\n",
       "  <thead>\n",
       "    <tr style=\"text-align: right;\">\n",
       "      <th></th>\n",
       "      <th>Orag_NM</th>\n",
       "      <th>Transmit_Server_NO</th>\n",
       "      <th>DATA_NO</th>\n",
       "      <th>Model_NM</th>\n",
       "      <th>Site</th>\n",
       "      <th>Server_Type</th>\n",
       "      <th>Site_NM</th>\n",
       "      <th>Visit_Count</th>\n",
       "      <th>Date</th>\n",
       "      <th>Regist_Date</th>\n",
       "    </tr>\n",
       "  </thead>\n",
       "  <tbody>\n",
       "    <tr>\n",
       "      <th>0</th>\n",
       "      <td>서울시</td>\n",
       "      <td>32.0</td>\n",
       "      <td>1.0</td>\n",
       "      <td>SDOT001</td>\n",
       "      <td>3037</td>\n",
       "      <td>00Original</td>\n",
       "      <td>3037</td>\n",
       "      <td>137</td>\n",
       "      <td>202208010200</td>\n",
       "      <td>2022-08-01 02:05:08.0</td>\n",
       "    </tr>\n",
       "    <tr>\n",
       "      <th>1</th>\n",
       "      <td>서울시</td>\n",
       "      <td>32.0</td>\n",
       "      <td>1.0</td>\n",
       "      <td>SDOT001</td>\n",
       "      <td>4024</td>\n",
       "      <td>00Original</td>\n",
       "      <td>4024</td>\n",
       "      <td>1</td>\n",
       "      <td>202208010200</td>\n",
       "      <td>2022-08-01 02:05:05.0</td>\n",
       "    </tr>\n",
       "    <tr>\n",
       "      <th>2</th>\n",
       "      <td>서울시</td>\n",
       "      <td>32.0</td>\n",
       "      <td>1.0</td>\n",
       "      <td>SDOT001</td>\n",
       "      <td>3036</td>\n",
       "      <td>00Original</td>\n",
       "      <td>3036</td>\n",
       "      <td>213</td>\n",
       "      <td>202208010200</td>\n",
       "      <td>2022-08-01 02:05:04.0</td>\n",
       "    </tr>\n",
       "    <tr>\n",
       "      <th>3</th>\n",
       "      <td>서울시</td>\n",
       "      <td>32.0</td>\n",
       "      <td>1.0</td>\n",
       "      <td>SDOT001</td>\n",
       "      <td>3034</td>\n",
       "      <td>00Original</td>\n",
       "      <td>3034</td>\n",
       "      <td>338</td>\n",
       "      <td>202208010200</td>\n",
       "      <td>2022-08-01 02:05:02.0</td>\n",
       "    </tr>\n",
       "    <tr>\n",
       "      <th>4</th>\n",
       "      <td>서울시</td>\n",
       "      <td>32.0</td>\n",
       "      <td>1.0</td>\n",
       "      <td>SDOT001</td>\n",
       "      <td>3033</td>\n",
       "      <td>00Original</td>\n",
       "      <td>3033</td>\n",
       "      <td>147</td>\n",
       "      <td>202208010200</td>\n",
       "      <td>2022-08-01 02:05:02.0</td>\n",
       "    </tr>\n",
       "  </tbody>\n",
       "</table>\n",
       "</div>"
      ],
      "text/plain": [
       "  Orag_NM  Transmit_Server_NO  DATA_NO Model_NM  Site Server_Type  Site_NM  \\\n",
       "0     서울시                32.0      1.0  SDOT001  3037  00Original     3037   \n",
       "1     서울시                32.0      1.0  SDOT001  4024  00Original     4024   \n",
       "2     서울시                32.0      1.0  SDOT001  3036  00Original     3036   \n",
       "3     서울시                32.0      1.0  SDOT001  3034  00Original     3034   \n",
       "4     서울시                32.0      1.0  SDOT001  3033  00Original     3033   \n",
       "\n",
       "   Visit_Count          Date            Regist_Date  \n",
       "0          137  202208010200  2022-08-01 02:05:08.0  \n",
       "1            1  202208010200  2022-08-01 02:05:05.0  \n",
       "2          213  202208010200  2022-08-01 02:05:04.0  \n",
       "3          338  202208010200  2022-08-01 02:05:02.0  \n",
       "4          147  202208010200  2022-08-01 02:05:02.0  "
      ]
     },
     "execution_count": 46,
     "metadata": {},
     "output_type": "execute_result"
    }
   ],
   "source": [
    "### Delete Duplicates ###\n",
    "csv_check = pd.read_csv(csv_path, encoding='euc-kr', sep=\",\")\n",
    "csv_check_after = csv_check.drop_duplicates() #subset=['Site','Server_Type','Site_NM','Visit_Count','Date','Regist_Date']\n",
    "csv_check_after.to_csv(csv_path, index=False, encoding='euc-kr')"
   ]
  },
  {
   "cell_type": "code",
   "execution_count": 47,
   "metadata": {},
   "outputs": [
    {
     "data": {
      "text/html": [
       "<div class='gpresult'><h2>Messages</h2><div id='messages' data-messages='[\"시작 시간:2022년 10월 26일 수요일 오후 5:12:49\",\"Date_Converted을 PopSensorLocation_JoinFeatures_training에 추가하는 중...\",\"2022년 10월 26일 수요일 오후 5:12:52에서 성공(경과 시간: 3.58초)\"]' data-show='true'><div id = 'default' /></div></div>"
      ],
      "text/plain": [
       "<Result 'C:\\\\Users\\\\esrikr\\\\Documents\\\\ArcGIS\\\\Projects\\\\LotteGRS\\\\LotteGRS.gdb\\\\PopSensorLocation_JoinFeatures_training'>"
      ]
     },
     "execution_count": 47,
     "metadata": {},
     "output_type": "execute_result"
    }
   ],
   "source": [
    "### ArcGIS Pro ###\n",
    "sensor_path = \"C:\\\\Users\\\\esrikr\\\\Documents\\\\ArcGIS\\\\Projects\\\\LotteGRS\\\\LotteGRS.gdb\\\\PopSensorLocation\"\n",
    "output_path = \"C:\\\\Users\\\\esrikr\\\\Documents\\\\ArcGIS\\Projects\\\\LotteGRS\\\\LotteGRS.gdb\\\\PopSensorLocation_JoinFeatures\"\n",
    "\n",
    "if arcpy.Exists(output_path):\n",
    "    arcpy.Delete_management(output_path)\n",
    "\n",
    "arcpy.gapro.JoinFeatures(sensor_path, csv_path, output_path , \"JOIN_ONE_TO_MANY\", '', None, '', None, \"Site Site\", None, '', None)\n",
    "arcpy.management.ConvertTimeField(output_path, \"Date\", \"yyyyMMddHHmm\", \"Date_Converted\", \"DATE\", '')"
   ]
  }
 ],
 "metadata": {
  "kernelspec": {
   "display_name": "Python 3.9.11 64-bit ('arcgispro-py3_ML')",
   "language": "python",
   "name": "python3"
  },
  "language_info": {
   "codemirror_mode": {
    "name": "ipython",
    "version": 3
   },
   "file_extension": ".py",
   "mimetype": "text/x-python",
   "name": "python",
   "nbconvert_exporter": "python",
   "pygments_lexer": "ipython3",
   "version": "3.9.11"
  },
  "orig_nbformat": 4,
  "vscode": {
   "interpreter": {
    "hash": "b6ce6b216fe7f33c581f1429ca36c0392de1f222bd95251fd32c0de57c6452b2"
   }
  }
 },
 "nbformat": 4,
 "nbformat_minor": 2
}
