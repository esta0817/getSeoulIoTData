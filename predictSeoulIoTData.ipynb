{
 "cells": [
  {
   "cell_type": "code",
   "execution_count": 41,
   "metadata": {},
   "outputs": [],
   "source": [
    "from IPython.display import display\n",
    "\n",
    "import pandas as pd\n",
    "from arcgis.gis import GIS\n",
    "import geopandas\n",
    "\n",
    "from datetime import datetime"
   ]
  },
  {
   "cell_type": "code",
   "execution_count": 6,
   "metadata": {},
   "outputs": [],
   "source": [
    "gis = GIS()"
   ]
  },
  {
   "cell_type": "code",
   "execution_count": 7,
   "metadata": {},
   "outputs": [
    {
     "data": {
      "text/html": [
       "<div>\n",
       "<style scoped>\n",
       "    .dataframe tbody tr th:only-of-type {\n",
       "        vertical-align: middle;\n",
       "    }\n",
       "\n",
       "    .dataframe tbody tr th {\n",
       "        vertical-align: top;\n",
       "    }\n",
       "\n",
       "    .dataframe thead th {\n",
       "        text-align: right;\n",
       "    }\n",
       "</style>\n",
       "<table border=\"1\" class=\"dataframe\">\n",
       "  <thead>\n",
       "    <tr style=\"text-align: right;\">\n",
       "      <th></th>\n",
       "      <th>OID_</th>\n",
       "      <th>No</th>\n",
       "      <th>Serial</th>\n",
       "      <th>Site</th>\n",
       "      <th>Gu</th>\n",
       "      <th>Address</th>\n",
       "      <th>Type</th>\n",
       "      <th>Height</th>\n",
       "      <th>Lat</th>\n",
       "      <th>Long</th>\n",
       "      <th>Sensor</th>\n",
       "      <th>Model_NM</th>\n",
       "      <th>Server_Type</th>\n",
       "      <th>Visit_Count</th>\n",
       "      <th>Date_Converted</th>\n",
       "      <th>Regist_Date_Converted</th>\n",
       "    </tr>\n",
       "  </thead>\n",
       "  <tbody>\n",
       "    <tr>\n",
       "      <th>0</th>\n",
       "      <td>400000</td>\n",
       "      <td>49</td>\n",
       "      <td>OC3CL200228</td>\n",
       "      <td>4049</td>\n",
       "      <td>서대문구</td>\n",
       "      <td>서울특별시 서대문구 홍제동 294-46</td>\n",
       "      <td>유동인구</td>\n",
       "      <td>3.5</td>\n",
       "      <td>37.59116</td>\n",
       "      <td>126.943006</td>\n",
       "      <td>카메라</td>\n",
       "      <td>SDOT001</td>\n",
       "      <td>00Original</td>\n",
       "      <td>55</td>\n",
       "      <td>2022-09-06 18:50</td>\n",
       "      <td>2022-09-06 18:52</td>\n",
       "    </tr>\n",
       "    <tr>\n",
       "      <th>1</th>\n",
       "      <td>400001</td>\n",
       "      <td>49</td>\n",
       "      <td>OC3CL200228</td>\n",
       "      <td>4049</td>\n",
       "      <td>서대문구</td>\n",
       "      <td>서울특별시 서대문구 홍제동 294-46</td>\n",
       "      <td>유동인구</td>\n",
       "      <td>3.5</td>\n",
       "      <td>37.59116</td>\n",
       "      <td>126.943006</td>\n",
       "      <td>카메라</td>\n",
       "      <td>SDOT001</td>\n",
       "      <td>00Original</td>\n",
       "      <td>55</td>\n",
       "      <td>2022-09-06 18:40</td>\n",
       "      <td>2022-09-06 18:42</td>\n",
       "    </tr>\n",
       "    <tr>\n",
       "      <th>2</th>\n",
       "      <td>400002</td>\n",
       "      <td>49</td>\n",
       "      <td>OC3CL200228</td>\n",
       "      <td>4049</td>\n",
       "      <td>서대문구</td>\n",
       "      <td>서울특별시 서대문구 홍제동 294-46</td>\n",
       "      <td>유동인구</td>\n",
       "      <td>3.5</td>\n",
       "      <td>37.59116</td>\n",
       "      <td>126.943006</td>\n",
       "      <td>카메라</td>\n",
       "      <td>SDOT001</td>\n",
       "      <td>00Original</td>\n",
       "      <td>56</td>\n",
       "      <td>2022-09-06 18:30</td>\n",
       "      <td>2022-09-06 18:32</td>\n",
       "    </tr>\n",
       "    <tr>\n",
       "      <th>3</th>\n",
       "      <td>400003</td>\n",
       "      <td>49</td>\n",
       "      <td>OC3CL200228</td>\n",
       "      <td>4049</td>\n",
       "      <td>서대문구</td>\n",
       "      <td>서울특별시 서대문구 홍제동 294-46</td>\n",
       "      <td>유동인구</td>\n",
       "      <td>3.5</td>\n",
       "      <td>37.59116</td>\n",
       "      <td>126.943006</td>\n",
       "      <td>카메라</td>\n",
       "      <td>SDOT001</td>\n",
       "      <td>00Original</td>\n",
       "      <td>69</td>\n",
       "      <td>2022-09-06 18:20</td>\n",
       "      <td>2022-09-06 18:22</td>\n",
       "    </tr>\n",
       "    <tr>\n",
       "      <th>4</th>\n",
       "      <td>400004</td>\n",
       "      <td>49</td>\n",
       "      <td>OC3CL200228</td>\n",
       "      <td>4049</td>\n",
       "      <td>서대문구</td>\n",
       "      <td>서울특별시 서대문구 홍제동 294-46</td>\n",
       "      <td>유동인구</td>\n",
       "      <td>3.5</td>\n",
       "      <td>37.59116</td>\n",
       "      <td>126.943006</td>\n",
       "      <td>카메라</td>\n",
       "      <td>SDOT001</td>\n",
       "      <td>00Original</td>\n",
       "      <td>47</td>\n",
       "      <td>2022-09-06 18:10</td>\n",
       "      <td>2022-09-06 18:12</td>\n",
       "    </tr>\n",
       "  </tbody>\n",
       "</table>\n",
       "</div>"
      ],
      "text/plain": [
       "     OID_  No       Serial  Site    Gu                Address  Type  Height  \\\n",
       "0  400000  49  OC3CL200228  4049  서대문구  서울특별시 서대문구 홍제동 294-46  유동인구     3.5   \n",
       "1  400001  49  OC3CL200228  4049  서대문구  서울특별시 서대문구 홍제동 294-46  유동인구     3.5   \n",
       "2  400002  49  OC3CL200228  4049  서대문구  서울특별시 서대문구 홍제동 294-46  유동인구     3.5   \n",
       "3  400003  49  OC3CL200228  4049  서대문구  서울특별시 서대문구 홍제동 294-46  유동인구     3.5   \n",
       "4  400004  49  OC3CL200228  4049  서대문구  서울특별시 서대문구 홍제동 294-46  유동인구     3.5   \n",
       "\n",
       "        Lat        Long Sensor Model_NM Server_Type  Visit_Count  \\\n",
       "0  37.59116  126.943006    카메라  SDOT001  00Original           55   \n",
       "1  37.59116  126.943006    카메라  SDOT001  00Original           55   \n",
       "2  37.59116  126.943006    카메라  SDOT001  00Original           56   \n",
       "3  37.59116  126.943006    카메라  SDOT001  00Original           69   \n",
       "4  37.59116  126.943006    카메라  SDOT001  00Original           47   \n",
       "\n",
       "     Date_Converted Regist_Date_Converted  \n",
       "0  2022-09-06 18:50      2022-09-06 18:52  \n",
       "1  2022-09-06 18:40      2022-09-06 18:42  \n",
       "2  2022-09-06 18:30      2022-09-06 18:32  \n",
       "3  2022-09-06 18:20      2022-09-06 18:22  \n",
       "4  2022-09-06 18:10      2022-09-06 18:12  "
      ]
     },
     "execution_count": 7,
     "metadata": {},
     "output_type": "execute_result"
    }
   ],
   "source": [
    "\n",
    "df_path = \"D:\\Data\\LotteGRS\\PopSensor_Training.csv\"\n",
    "df = pd.read_csv(df_path)\n",
    "\n",
    "df.head()"
   ]
  },
  {
   "cell_type": "code",
   "execution_count": 8,
   "metadata": {},
   "outputs": [
    {
     "name": "stdout",
     "output_type": "stream",
     "text": [
      "<class 'pandas.core.frame.DataFrame'>\n",
      "RangeIndex: 248965 entries, 0 to 248964\n",
      "Data columns (total 16 columns):\n",
      " #   Column                 Non-Null Count   Dtype  \n",
      "---  ------                 --------------   -----  \n",
      " 0   OID_                   248965 non-null  int64  \n",
      " 1   No                     248965 non-null  int64  \n",
      " 2   Serial                 248965 non-null  object \n",
      " 3   Site                   248965 non-null  int64  \n",
      " 4   Gu                     248965 non-null  object \n",
      " 5   Address                248965 non-null  object \n",
      " 6   Type                   248965 non-null  object \n",
      " 7   Height                 248965 non-null  float64\n",
      " 8   Lat                    248965 non-null  float64\n",
      " 9   Long                   248965 non-null  float64\n",
      " 10  Sensor                 248965 non-null  object \n",
      " 11  Model_NM               248965 non-null  object \n",
      " 12  Server_Type            248965 non-null  object \n",
      " 13  Visit_Count            248965 non-null  int64  \n",
      " 14  Date_Converted         248965 non-null  object \n",
      " 15  Regist_Date_Converted  248965 non-null  object \n",
      "dtypes: float64(3), int64(4), object(9)\n",
      "memory usage: 30.4+ MB\n"
     ]
    }
   ],
   "source": [
    "df.info()"
   ]
  },
  {
   "cell_type": "code",
   "execution_count": 9,
   "metadata": {},
   "outputs": [
    {
     "data": {
      "text/html": [
       "<div>\n",
       "<style scoped>\n",
       "    .dataframe tbody tr th:only-of-type {\n",
       "        vertical-align: middle;\n",
       "    }\n",
       "\n",
       "    .dataframe tbody tr th {\n",
       "        vertical-align: top;\n",
       "    }\n",
       "\n",
       "    .dataframe thead th {\n",
       "        text-align: right;\n",
       "    }\n",
       "</style>\n",
       "<table border=\"1\" class=\"dataframe\">\n",
       "  <thead>\n",
       "    <tr style=\"text-align: right;\">\n",
       "      <th></th>\n",
       "      <th>OID_</th>\n",
       "      <th>No</th>\n",
       "      <th>Serial</th>\n",
       "      <th>Site</th>\n",
       "      <th>Gu</th>\n",
       "      <th>Address</th>\n",
       "      <th>Type</th>\n",
       "      <th>Height</th>\n",
       "      <th>Lat</th>\n",
       "      <th>Long</th>\n",
       "      <th>Sensor</th>\n",
       "      <th>Model_NM</th>\n",
       "      <th>Server_Type</th>\n",
       "      <th>Visit_Count</th>\n",
       "      <th>Date_Converted</th>\n",
       "      <th>Regist_Date_Converted</th>\n",
       "      <th>SHAPE</th>\n",
       "    </tr>\n",
       "  </thead>\n",
       "  <tbody>\n",
       "    <tr>\n",
       "      <th>0</th>\n",
       "      <td>400000</td>\n",
       "      <td>49</td>\n",
       "      <td>OC3CL200228</td>\n",
       "      <td>4049</td>\n",
       "      <td>서대문구</td>\n",
       "      <td>서울특별시 서대문구 홍제동 294-46</td>\n",
       "      <td>유동인구</td>\n",
       "      <td>3.5</td>\n",
       "      <td>37.59116</td>\n",
       "      <td>126.943006</td>\n",
       "      <td>카메라</td>\n",
       "      <td>SDOT001</td>\n",
       "      <td>00Original</td>\n",
       "      <td>55</td>\n",
       "      <td>2022-09-06 18:50</td>\n",
       "      <td>2022-09-06 18:52</td>\n",
       "      <td>{\"spatialReference\": {\"wkid\": 4326}, \"x\": 126....</td>\n",
       "    </tr>\n",
       "    <tr>\n",
       "      <th>1</th>\n",
       "      <td>400001</td>\n",
       "      <td>49</td>\n",
       "      <td>OC3CL200228</td>\n",
       "      <td>4049</td>\n",
       "      <td>서대문구</td>\n",
       "      <td>서울특별시 서대문구 홍제동 294-46</td>\n",
       "      <td>유동인구</td>\n",
       "      <td>3.5</td>\n",
       "      <td>37.59116</td>\n",
       "      <td>126.943006</td>\n",
       "      <td>카메라</td>\n",
       "      <td>SDOT001</td>\n",
       "      <td>00Original</td>\n",
       "      <td>55</td>\n",
       "      <td>2022-09-06 18:40</td>\n",
       "      <td>2022-09-06 18:42</td>\n",
       "      <td>{\"spatialReference\": {\"wkid\": 4326}, \"x\": 126....</td>\n",
       "    </tr>\n",
       "    <tr>\n",
       "      <th>2</th>\n",
       "      <td>400002</td>\n",
       "      <td>49</td>\n",
       "      <td>OC3CL200228</td>\n",
       "      <td>4049</td>\n",
       "      <td>서대문구</td>\n",
       "      <td>서울특별시 서대문구 홍제동 294-46</td>\n",
       "      <td>유동인구</td>\n",
       "      <td>3.5</td>\n",
       "      <td>37.59116</td>\n",
       "      <td>126.943006</td>\n",
       "      <td>카메라</td>\n",
       "      <td>SDOT001</td>\n",
       "      <td>00Original</td>\n",
       "      <td>56</td>\n",
       "      <td>2022-09-06 18:30</td>\n",
       "      <td>2022-09-06 18:32</td>\n",
       "      <td>{\"spatialReference\": {\"wkid\": 4326}, \"x\": 126....</td>\n",
       "    </tr>\n",
       "    <tr>\n",
       "      <th>3</th>\n",
       "      <td>400003</td>\n",
       "      <td>49</td>\n",
       "      <td>OC3CL200228</td>\n",
       "      <td>4049</td>\n",
       "      <td>서대문구</td>\n",
       "      <td>서울특별시 서대문구 홍제동 294-46</td>\n",
       "      <td>유동인구</td>\n",
       "      <td>3.5</td>\n",
       "      <td>37.59116</td>\n",
       "      <td>126.943006</td>\n",
       "      <td>카메라</td>\n",
       "      <td>SDOT001</td>\n",
       "      <td>00Original</td>\n",
       "      <td>69</td>\n",
       "      <td>2022-09-06 18:20</td>\n",
       "      <td>2022-09-06 18:22</td>\n",
       "      <td>{\"spatialReference\": {\"wkid\": 4326}, \"x\": 126....</td>\n",
       "    </tr>\n",
       "    <tr>\n",
       "      <th>4</th>\n",
       "      <td>400004</td>\n",
       "      <td>49</td>\n",
       "      <td>OC3CL200228</td>\n",
       "      <td>4049</td>\n",
       "      <td>서대문구</td>\n",
       "      <td>서울특별시 서대문구 홍제동 294-46</td>\n",
       "      <td>유동인구</td>\n",
       "      <td>3.5</td>\n",
       "      <td>37.59116</td>\n",
       "      <td>126.943006</td>\n",
       "      <td>카메라</td>\n",
       "      <td>SDOT001</td>\n",
       "      <td>00Original</td>\n",
       "      <td>47</td>\n",
       "      <td>2022-09-06 18:10</td>\n",
       "      <td>2022-09-06 18:12</td>\n",
       "      <td>{\"spatialReference\": {\"wkid\": 4326}, \"x\": 126....</td>\n",
       "    </tr>\n",
       "  </tbody>\n",
       "</table>\n",
       "</div>"
      ],
      "text/plain": [
       "     OID_  No       Serial  Site    Gu                Address  Type  Height  \\\n",
       "0  400000  49  OC3CL200228  4049  서대문구  서울특별시 서대문구 홍제동 294-46  유동인구     3.5   \n",
       "1  400001  49  OC3CL200228  4049  서대문구  서울특별시 서대문구 홍제동 294-46  유동인구     3.5   \n",
       "2  400002  49  OC3CL200228  4049  서대문구  서울특별시 서대문구 홍제동 294-46  유동인구     3.5   \n",
       "3  400003  49  OC3CL200228  4049  서대문구  서울특별시 서대문구 홍제동 294-46  유동인구     3.5   \n",
       "4  400004  49  OC3CL200228  4049  서대문구  서울특별시 서대문구 홍제동 294-46  유동인구     3.5   \n",
       "\n",
       "        Lat        Long Sensor Model_NM Server_Type  Visit_Count  \\\n",
       "0  37.59116  126.943006    카메라  SDOT001  00Original           55   \n",
       "1  37.59116  126.943006    카메라  SDOT001  00Original           55   \n",
       "2  37.59116  126.943006    카메라  SDOT001  00Original           56   \n",
       "3  37.59116  126.943006    카메라  SDOT001  00Original           69   \n",
       "4  37.59116  126.943006    카메라  SDOT001  00Original           47   \n",
       "\n",
       "     Date_Converted Regist_Date_Converted  \\\n",
       "0  2022-09-06 18:50      2022-09-06 18:52   \n",
       "1  2022-09-06 18:40      2022-09-06 18:42   \n",
       "2  2022-09-06 18:30      2022-09-06 18:32   \n",
       "3  2022-09-06 18:20      2022-09-06 18:22   \n",
       "4  2022-09-06 18:10      2022-09-06 18:12   \n",
       "\n",
       "                                               SHAPE  \n",
       "0  {\"spatialReference\": {\"wkid\": 4326}, \"x\": 126....  \n",
       "1  {\"spatialReference\": {\"wkid\": 4326}, \"x\": 126....  \n",
       "2  {\"spatialReference\": {\"wkid\": 4326}, \"x\": 126....  \n",
       "3  {\"spatialReference\": {\"wkid\": 4326}, \"x\": 126....  \n",
       "4  {\"spatialReference\": {\"wkid\": 4326}, \"x\": 126....  "
      ]
     },
     "execution_count": 9,
     "metadata": {},
     "output_type": "execute_result"
    }
   ],
   "source": [
    "sedf = pd.DataFrame.spatial.from_xy(df, \"Long\", \"Lat\")\n",
    "sedf.head()"
   ]
  },
  {
   "cell_type": "code",
   "execution_count": 10,
   "metadata": {},
   "outputs": [
    {
     "data": {
      "image/svg+xml": "<svg xmlns=\"http://www.w3.org/2000/svg\" xmlns:xlink=\"http://www.w3.org/1999/xlink\" width=\"100.0\" height=\"100.0\" viewBox=\"125.9430063 36.59116011 2.0 2.0\" preserveAspectRatio=\"xMinYMin meet\"><g transform=\"matrix(1,0,0,-1,0,75.18232022)\"><circle cx=\"126.9430063\" cy=\"37.59116011\" r=\"0.06\" stroke=\"#555555\" stroke-width=\"0.02\" fill=\"#66cc99\" opacity=\"0.6\" /></g></svg>",
      "text/plain": [
       "{'spatialReference': {'wkid': 4326}, 'x': 126.9430063, 'y': 37.59116011}"
      ]
     },
     "execution_count": 10,
     "metadata": {},
     "output_type": "execute_result"
    }
   ],
   "source": [
    "sedf.SHAPE[0]"
   ]
  },
  {
   "cell_type": "code",
   "execution_count": 11,
   "metadata": {},
   "outputs": [
    {
     "name": "stdout",
     "output_type": "stream",
     "text": [
      "Shape of training data: (199172, 17)\n",
      "Shape of test data: (49793, 17)\n"
     ]
    }
   ],
   "source": [
    "# Split data\n",
    "from sklearn.model_selection import train_test_split\n",
    "train_data, test_data = train_test_split(sedf, test_size=0.2, random_state=101)\n",
    "\n",
    "print(f'Shape of training data: {train_data.shape}')\n",
    "print(f'Shape of test data: {test_data.shape}')"
   ]
  },
  {
   "cell_type": "code",
   "execution_count": 12,
   "metadata": {},
   "outputs": [
    {
     "data": {
      "text/plain": [
       "<AxesSubplot:>"
      ]
     },
     "execution_count": 12,
     "metadata": {},
     "output_type": "execute_result"
    },
    {
     "data": {
      "image/png": "[encoded data removed]",
      "text/plain": [
       "<Figure size 432x288 with 1 Axes>"
      ]
     },
     "metadata": {
      "needs_background": "light"
     },
     "output_type": "display_data"
    }
   ],
   "source": [
    "train_data.plot()"
   ]
  },
  {
   "cell_type": "code",
   "execution_count": 14,
   "metadata": {},
   "outputs": [
    {
     "data": {
      "text/plain": [
       "Index(['OID_', 'No', 'Serial', 'Site', 'Gu', 'Address', 'Type', 'Height',\n",
       "       'Lat', 'Long', 'Sensor', 'Model_NM', 'Server_Type', 'Visit_Count',\n",
       "       'Date_Converted', 'Regist_Date_Converted', 'SHAPE'],\n",
       "      dtype='object')"
      ]
     },
     "execution_count": 14,
     "metadata": {},
     "output_type": "execute_result"
    }
   ],
   "source": [
    "train_data.columns"
   ]
  },
  {
   "cell_type": "code",
   "execution_count": 39,
   "metadata": {},
   "outputs": [
    {
     "data": {
      "text/plain": [
       "Index(['Visit_Count', 'Date_Converted'], dtype='object')"
      ]
     },
     "execution_count": 39,
     "metadata": {},
     "output_type": "execute_result"
    }
   ],
   "source": [
    "train_x = train_data.iloc[:,-4:-2]\n",
    "train_y = train_data.iloc[:,-4]\n",
    "test_x = test_data.iloc[:,-4:-2]\n",
    "test_y = test_data.iloc[:,-4]\n",
    "\n",
    "test_x.columns"
   ]
  },
  {
   "cell_type": "code",
   "execution_count": 20,
   "metadata": {},
   "outputs": [],
   "source": [
    "from sklearn import linear_model\n",
    "lr_model = linear_model.LinearRegression()"
   ]
  },
  {
   "cell_type": "code",
   "execution_count": 44,
   "metadata": {},
   "outputs": [
    {
     "data": {
      "text/plain": [
       "'금요일'"
      ]
     },
     "execution_count": 44,
     "metadata": {},
     "output_type": "execute_result"
    }
   ],
   "source": [
    "now = datetime.now()\n",
    "now.strftime('%A')"
   ]
  },
  {
   "cell_type": "code",
   "execution_count": 46,
   "metadata": {},
   "outputs": [
    {
     "data": {
      "text/plain": [
       "Index(['Visit_Count', 'Date_Converted'], dtype='object')"
      ]
     },
     "execution_count": 46,
     "metadata": {},
     "output_type": "execute_result"
    }
   ],
   "source": [
    "test_x.columns"
   ]
  },
  {
   "cell_type": "code",
   "execution_count": 47,
   "metadata": {},
   "outputs": [],
   "source": [
    "# Import Plotting libraries\n",
    "import matplotlib.pyplot as plt"
   ]
  },
  {
   "cell_type": "code",
   "execution_count": 75,
   "metadata": {},
   "outputs": [
    {
     "ename": "KeyError",
     "evalue": "'Date_Converted'",
     "output_type": "error",
     "traceback": [
      "\u001b[1;31m---------------------------------------------------------------------------\u001b[0m",
      "\u001b[1;31mKeyError\u001b[0m                                  Traceback (most recent call last)",
      "\u001b[1;32mc:\\Users\\esrikr\\AppData\\Local\\ESRI\\conda\\envs\\arcgispro-py3_ML\\lib\\site-packages\\pandas\\core\\indexes\\base.py\u001b[0m in \u001b[0;36mget_loc\u001b[1;34m(self, key, method, tolerance)\u001b[0m\n\u001b[0;32m   3360\u001b[0m             \u001b[1;32mtry\u001b[0m\u001b[1;33m:\u001b[0m\u001b[1;33m\u001b[0m\u001b[1;33m\u001b[0m\u001b[0m\n\u001b[1;32m-> 3361\u001b[1;33m                 \u001b[1;32mreturn\u001b[0m \u001b[0mself\u001b[0m\u001b[1;33m.\u001b[0m\u001b[0m_engine\u001b[0m\u001b[1;33m.\u001b[0m\u001b[0mget_loc\u001b[0m\u001b[1;33m(\u001b[0m\u001b[0mcasted_key\u001b[0m\u001b[1;33m)\u001b[0m\u001b[1;33m\u001b[0m\u001b[1;33m\u001b[0m\u001b[0m\n\u001b[0m\u001b[0;32m   3362\u001b[0m             \u001b[1;32mexcept\u001b[0m \u001b[0mKeyError\u001b[0m \u001b[1;32mas\u001b[0m \u001b[0merr\u001b[0m\u001b[1;33m:\u001b[0m\u001b[1;33m\u001b[0m\u001b[1;33m\u001b[0m\u001b[0m\n",
      "\u001b[1;32mc:\\Users\\esrikr\\AppData\\Local\\ESRI\\conda\\envs\\arcgispro-py3_ML\\lib\\site-packages\\pandas\\_libs\\index.pyx\u001b[0m in \u001b[0;36mpandas._libs.index.IndexEngine.get_loc\u001b[1;34m()\u001b[0m\n",
      "\u001b[1;32mpandas\\_libs\\index_class_helper.pxi\u001b[0m in \u001b[0;36mpandas._libs.index.Int64Engine._check_type\u001b[1;34m()\u001b[0m\n",
      "\u001b[1;32mpandas\\_libs\\index_class_helper.pxi\u001b[0m in \u001b[0;36mpandas._libs.index.Int64Engine._check_type\u001b[1;34m()\u001b[0m\n",
      "\u001b[1;31mKeyError\u001b[0m: 'Date_Converted'",
      "\nThe above exception was the direct cause of the following exception:\n",
      "\u001b[1;31mKeyError\u001b[0m                                  Traceback (most recent call last)",
      "\u001b[1;32m<ipython-input-75-8fd7bbfbc873>\u001b[0m in \u001b[0;36m<module>\u001b[1;34m\u001b[0m\n\u001b[0;32m      6\u001b[0m \u001b[0mtest_x\u001b[0m\u001b[1;33m.\u001b[0m\u001b[0mhead\u001b[0m\u001b[1;33m(\u001b[0m\u001b[1;33m)\u001b[0m\u001b[1;33m\u001b[0m\u001b[1;33m\u001b[0m\u001b[0m\n\u001b[0;32m      7\u001b[0m \u001b[0mge\u001b[0m \u001b[1;33m=\u001b[0m \u001b[0mtest_x\u001b[0m\u001b[1;33m[\u001b[0m\u001b[1;34m\"Date_Converted\"\u001b[0m\u001b[1;33m]\u001b[0m\u001b[1;33m\u001b[0m\u001b[1;33m\u001b[0m\u001b[0m\n\u001b[1;32m----> 8\u001b[1;33m \u001b[0mge\u001b[0m\u001b[1;33m[\u001b[0m\u001b[1;34m\"Date_Converted\"\u001b[0m\u001b[1;33m]\u001b[0m \u001b[1;33m=\u001b[0m \u001b[0mge\u001b[0m\u001b[1;33m[\u001b[0m\u001b[1;34m\"Date_Converted\"\u001b[0m\u001b[1;33m]\u001b[0m\u001b[1;33m.\u001b[0m\u001b[0mastype\u001b[0m\u001b[1;33m(\u001b[0m\u001b[0mstr\u001b[0m\u001b[1;33m)\u001b[0m\u001b[1;33m\u001b[0m\u001b[1;33m\u001b[0m\u001b[0m\n\u001b[0m",
      "\u001b[1;32mc:\\Users\\esrikr\\AppData\\Local\\ESRI\\conda\\envs\\arcgispro-py3_ML\\lib\\site-packages\\pandas\\core\\series.py\u001b[0m in \u001b[0;36m__getitem__\u001b[1;34m(self, key)\u001b[0m\n\u001b[0;32m    940\u001b[0m \u001b[1;33m\u001b[0m\u001b[0m\n\u001b[0;32m    941\u001b[0m         \u001b[1;32melif\u001b[0m \u001b[0mkey_is_scalar\u001b[0m\u001b[1;33m:\u001b[0m\u001b[1;33m\u001b[0m\u001b[1;33m\u001b[0m\u001b[0m\n\u001b[1;32m--> 942\u001b[1;33m             \u001b[1;32mreturn\u001b[0m \u001b[0mself\u001b[0m\u001b[1;33m.\u001b[0m\u001b[0m_get_value\u001b[0m\u001b[1;33m(\u001b[0m\u001b[0mkey\u001b[0m\u001b[1;33m)\u001b[0m\u001b[1;33m\u001b[0m\u001b[1;33m\u001b[0m\u001b[0m\n\u001b[0m\u001b[0;32m    943\u001b[0m \u001b[1;33m\u001b[0m\u001b[0m\n\u001b[0;32m    944\u001b[0m         \u001b[1;32mif\u001b[0m \u001b[0mis_hashable\u001b[0m\u001b[1;33m(\u001b[0m\u001b[0mkey\u001b[0m\u001b[1;33m)\u001b[0m\u001b[1;33m:\u001b[0m\u001b[1;33m\u001b[0m\u001b[1;33m\u001b[0m\u001b[0m\n",
      "\u001b[1;32mc:\\Users\\esrikr\\AppData\\Local\\ESRI\\conda\\envs\\arcgispro-py3_ML\\lib\\site-packages\\pandas\\core\\series.py\u001b[0m in \u001b[0;36m_get_value\u001b[1;34m(self, label, takeable)\u001b[0m\n\u001b[0;32m   1049\u001b[0m \u001b[1;33m\u001b[0m\u001b[0m\n\u001b[0;32m   1050\u001b[0m         \u001b[1;31m# Similar to Index.get_value, but we do not fall back to positional\u001b[0m\u001b[1;33m\u001b[0m\u001b[1;33m\u001b[0m\u001b[0m\n\u001b[1;32m-> 1051\u001b[1;33m         \u001b[0mloc\u001b[0m \u001b[1;33m=\u001b[0m \u001b[0mself\u001b[0m\u001b[1;33m.\u001b[0m\u001b[0mindex\u001b[0m\u001b[1;33m.\u001b[0m\u001b[0mget_loc\u001b[0m\u001b[1;33m(\u001b[0m\u001b[0mlabel\u001b[0m\u001b[1;33m)\u001b[0m\u001b[1;33m\u001b[0m\u001b[1;33m\u001b[0m\u001b[0m\n\u001b[0m\u001b[0;32m   1052\u001b[0m         \u001b[1;32mreturn\u001b[0m \u001b[0mself\u001b[0m\u001b[1;33m.\u001b[0m\u001b[0mindex\u001b[0m\u001b[1;33m.\u001b[0m\u001b[0m_get_values_for_loc\u001b[0m\u001b[1;33m(\u001b[0m\u001b[0mself\u001b[0m\u001b[1;33m,\u001b[0m \u001b[0mloc\u001b[0m\u001b[1;33m,\u001b[0m \u001b[0mlabel\u001b[0m\u001b[1;33m)\u001b[0m\u001b[1;33m\u001b[0m\u001b[1;33m\u001b[0m\u001b[0m\n\u001b[0;32m   1053\u001b[0m \u001b[1;33m\u001b[0m\u001b[0m\n",
      "\u001b[1;32mc:\\Users\\esrikr\\AppData\\Local\\ESRI\\conda\\envs\\arcgispro-py3_ML\\lib\\site-packages\\pandas\\core\\indexes\\base.py\u001b[0m in \u001b[0;36mget_loc\u001b[1;34m(self, key, method, tolerance)\u001b[0m\n\u001b[0;32m   3361\u001b[0m                 \u001b[1;32mreturn\u001b[0m \u001b[0mself\u001b[0m\u001b[1;33m.\u001b[0m\u001b[0m_engine\u001b[0m\u001b[1;33m.\u001b[0m\u001b[0mget_loc\u001b[0m\u001b[1;33m(\u001b[0m\u001b[0mcasted_key\u001b[0m\u001b[1;33m)\u001b[0m\u001b[1;33m\u001b[0m\u001b[1;33m\u001b[0m\u001b[0m\n\u001b[0;32m   3362\u001b[0m             \u001b[1;32mexcept\u001b[0m \u001b[0mKeyError\u001b[0m \u001b[1;32mas\u001b[0m \u001b[0merr\u001b[0m\u001b[1;33m:\u001b[0m\u001b[1;33m\u001b[0m\u001b[1;33m\u001b[0m\u001b[0m\n\u001b[1;32m-> 3363\u001b[1;33m                 \u001b[1;32mraise\u001b[0m \u001b[0mKeyError\u001b[0m\u001b[1;33m(\u001b[0m\u001b[0mkey\u001b[0m\u001b[1;33m)\u001b[0m \u001b[1;32mfrom\u001b[0m \u001b[0merr\u001b[0m\u001b[1;33m\u001b[0m\u001b[1;33m\u001b[0m\u001b[0m\n\u001b[0m\u001b[0;32m   3364\u001b[0m \u001b[1;33m\u001b[0m\u001b[0m\n\u001b[0;32m   3365\u001b[0m         \u001b[1;32mif\u001b[0m \u001b[0mis_scalar\u001b[0m\u001b[1;33m(\u001b[0m\u001b[0mkey\u001b[0m\u001b[1;33m)\u001b[0m \u001b[1;32mand\u001b[0m \u001b[0misna\u001b[0m\u001b[1;33m(\u001b[0m\u001b[0mkey\u001b[0m\u001b[1;33m)\u001b[0m \u001b[1;32mand\u001b[0m \u001b[1;32mnot\u001b[0m \u001b[0mself\u001b[0m\u001b[1;33m.\u001b[0m\u001b[0mhasnans\u001b[0m\u001b[1;33m:\u001b[0m\u001b[1;33m\u001b[0m\u001b[1;33m\u001b[0m\u001b[0m\n",
      "\u001b[1;31mKeyError\u001b[0m: 'Date_Converted'"
     ]
    },
    {
     "data": {
      "text/plain": [
       "<Figure size 1080x720 with 0 Axes>"
      ]
     },
     "metadata": {},
     "output_type": "display_data"
    }
   ],
   "source": [
    "from time import strptime\n",
    "from dateutil.parser import parse\n",
    "\n",
    "\n",
    "plt.figure(figsize=(15,10))\n",
    "test_x.head()\n",
    "ge = test_x[\"Date_Converted\"]\n",
    "ge[\"Date_Converted\"] = ge[\"Date_Converted\"].astype(str)"
   ]
  },
  {
   "cell_type": "code",
   "execution_count": null,
   "metadata": {},
   "outputs": [],
   "source": []
  }
 ],
 "metadata": {
  "kernelspec": {
   "display_name": "Python 3.9.11 64-bit ('arcgispro-py3_ML')",
   "language": "python",
   "name": "python3"
  },
  "language_info": {
   "codemirror_mode": {
    "name": "ipython",
    "version": 3
   },
   "file_extension": ".py",
   "mimetype": "text/x-python",
   "name": "python",
   "nbconvert_exporter": "python",
   "pygments_lexer": "ipython3",
   "version": "3.9.11"
  },
  "orig_nbformat": 4,
  "vscode": {
   "interpreter": {
    "hash": "b6ce6b216fe7f33c581f1429ca36c0392de1f222bd95251fd32c0de57c6452b2"
   }
  }
 },
 "nbformat": 4,
 "nbformat_minor": 2
}
